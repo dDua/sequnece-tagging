{
 "cells": [
  {
   "cell_type": "code",
   "execution_count": 34,
   "metadata": {},
   "outputs": [],
   "source": [
    "from utils import *\n",
    "from simanneal import Annealer\n",
    "import random\n",
    "\n",
    "root_dir = \"\"\n",
    "label_count = 6\n",
    "\n",
    "def populate_weights_map(path):\n",
    "    weight_map = {}\n",
    "    with open(path) as fr:\n",
    "        for line in fr:\n",
    "            tokens = line.strip().split()\n",
    "            features = tokens[0].split(\":\")\n",
    "            word = features[0].replace(\"Wi=\",\"\")\n",
    "            label = features[-1].replace(\"Ti=\",\"\")\n",
    "            weight_map[word+\"_\"+label] = float(tokens[1])\n",
    "    return weight_map\n",
    "\n",
    "class TagSolver(Annealer):\n",
    "    \n",
    "    def __init__(self, sentence, weights, state):\n",
    "        self.sentence = sentence\n",
    "        self.weights = weights\n",
    "#         '': 8,\n",
    "#  'B-LOC': 5,\n",
    "#  'B-MISC': 6,\n",
    "#  'B-ORG': 7,\n",
    "#  'I-LOC': 4,\n",
    "#  'I-MISC': 2,\n",
    "#  'I-ORG': 0,\n",
    "#  'I-PER': 3,\n",
    "#  'O': 1}\n",
    "        self.labels = [\"O\", \"I-PER\", \"I-MISC\", \"B-MISC\", \"I-LOC\", \"B-LOC\", \"B-ORG\", \"I-ORG\"]\n",
    "        super().__init__(state)\n",
    "    \n",
    "    def move(self):\n",
    "        for i in range(len(self.state)):\n",
    "            self.state[i]= self.labels[random.randint(0, len(self.labels)-1)]\n",
    "    \n",
    "    def energy(self):\n",
    "        obj_fn = 0\n",
    "        for i,token in enumerate(self.sentence):\n",
    "            wgt= self.weights.get(str(token)+\"_\"+self.state[i],0.0)\n",
    "            obj_fn += exp(wgt)\n",
    "        return -obj_fn\n",
    "    \n",
    "def get_prediction(weights, sentence):\n",
    "    lbl = [\"O\", \"I-PER\", \"I-MISC\", \"B-MISC\", \"I-LOC\", \"B-LOC\", \"B-ORG\", \"I-ORG\"]\n",
    "    init= [lbl[random.randint(0, len(lbl)-1)]  for x in range(len(sentence))]\n",
    "    tagSolver = TagSolver( sentence, weights, init)\n",
    "    state, energy = tagSolver.anneal()\n",
    "    return (state, energy)"
   ]
  },
  {
   "cell_type": "code",
   "execution_count": 4,
   "metadata": {},
   "outputs": [
    {
     "name": "stdout",
     "output_type": "stream",
     "text": [
      "-DOCSTART- -X- -X- O\n",
      "\n"
     ]
    }
   ],
   "source": [
    "from utils import *\n",
    "def populate_weights_map(path):\n",
    "    weight_map = {}\n",
    "    with open(path) as fr:\n",
    "        for line in fr:\n",
    "            tokens = line.strip().split()\n",
    "            features = tokens[0].split(\":\")\n",
    "            word = features[0].replace(\"Wi=\",\"\")\n",
    "            label = features[-1].replace(\"Ti=\",\"\")\n",
    "            weight_map[word+\"_\"+label] = float(tokens[1])\n",
    "    return weight_map\n",
    "weights = populate_weights_map(\"weights\")\n",
    "sentences, labels, vocab, label_vocab = create_vocabulary(\"test\")"
   ]
  },
  {
   "cell_type": "code",
   "execution_count": 36,
   "metadata": {},
   "outputs": [
    {
     "name": "stdout",
     "output_type": "stream",
     "text": [
      "3684\n"
     ]
    }
   ],
   "source": [
    "print(len(sentences))"
   ]
  },
  {
   "cell_type": "code",
   "execution_count": 37,
   "metadata": {},
   "outputs": [
    {
     "name": "stderr",
     "output_type": "stream",
     "text": [
      " Temperature        Energy    Accept   Improve     Elapsed   Remaining\n",
      " 11965.75231        -32.80   100.00%    48.20%     0:00:00     0:00:02"
     ]
    },
    {
     "name": "stdout",
     "output_type": "stream",
     "text": [
      "0\n"
     ]
    },
    {
     "name": "stderr",
     "output_type": "stream",
     "text": [
      "     2.50000        -31.31     0.60%     0.20%     0:00:02     0:00:00 Temperature        Energy    Accept   Improve     Elapsed   Remaining\n",
      "     2.50000         -2.00    88.20%    26.60%     0:00:01     0:00:00 Temperature        Energy    Accept   Improve     Elapsed   Remaining\n",
      "     2.50000        -11.76    21.20%     9.80%     0:00:01     0:00:00 Temperature        Energy    Accept   Improve     Elapsed   Remaining\n",
      "     2.50000        -50.30     4.20%     2.00%     0:00:04     0:00:00 Temperature        Energy    Accept   Improve     Elapsed   Remaining\n",
      "     2.50000        -49.24     7.00%     3.60%     0:00:04     0:00:00 Temperature        Energy    Accept   Improve     Elapsed   Remaining\n",
      "     2.50000        -92.14     0.20%     0.00%     0:00:06     0:00:00 Temperature        Energy    Accept   Improve     Elapsed   Remaining\n",
      "     2.50000        -44.89     4.80%     2.20%     0:00:03     0:00:00 Temperature        Energy    Accept   Improve     Elapsed   Remaining\n",
      "     2.50000        -16.37    70.40%    28.00%     0:00:03     0:00:00 Temperature        Energy    Accept   Improve     Elapsed   Remaining\n",
      "     2.50000        -19.72    30.60%    13.60%     0:00:03     0:00:00 Temperature        Energy    Accept   Improve     Elapsed   Remaining\n",
      "     2.50000        -37.83    28.00%    12.40%     0:00:04     0:00:00 Temperature        Energy    Accept   Improve     Elapsed   Remaining\n",
      " 13120.18651        -42.49   100.00%    51.00%     0:00:00     0:00:05"
     ]
    },
    {
     "name": "stdout",
     "output_type": "stream",
     "text": [
      "10\n"
     ]
    },
    {
     "name": "stderr",
     "output_type": "stream",
     "text": [
      "     2.50000        -51.26    10.40%     4.60%     0:00:05     0:00:00 Temperature        Energy    Accept   Improve     Elapsed   Remaining\n",
      "     2.50000        -14.80    36.00%    15.60%     0:00:02     0:00:00 Temperature        Energy    Accept   Improve     Elapsed   Remaining\n",
      "     2.50000        -70.71     1.00%     0.60%     0:00:05     0:00:00 Temperature        Energy    Accept   Improve     Elapsed   Remaining\n",
      "     2.50000        -19.44    68.60%    28.20%     0:00:03     0:00:00 Temperature        Energy    Accept   Improve     Elapsed   Remaining\n",
      "     2.50000        -43.52     5.20%     2.60%     0:00:03     0:00:00 Temperature        Energy    Accept   Improve     Elapsed   Remaining\n",
      "     2.50000        -10.72    85.80%    20.60%     0:00:02     0:00:00 Temperature        Energy    Accept   Improve     Elapsed   Remaining\n",
      "     2.50000        -17.00    76.60%    31.00%     0:00:03     0:00:00 Temperature        Energy    Accept   Improve     Elapsed   Remaining\n",
      "     2.50000        -29.83    18.60%     9.00%     0:00:03     0:00:00 Temperature        Energy    Accept   Improve     Elapsed   Remaining\n",
      "     2.50000         -1.00    98.60%     8.40%     0:00:00     0:00:00 Temperature        Energy    Accept   Improve     Elapsed   Remaining\n",
      "     2.50000        -50.66     3.00%     1.60%     0:00:04     0:00:00 Temperature        Energy    Accept   Improve     Elapsed   Remaining\n",
      " 11965.75231        -17.00   100.00%    39.20%     0:00:00     0:00:03"
     ]
    },
    {
     "name": "stdout",
     "output_type": "stream",
     "text": [
      "20\n"
     ]
    },
    {
     "name": "stderr",
     "output_type": "stream",
     "text": [
      "     2.50000        -17.00    41.60%    14.60%     0:00:03     0:00:00 Temperature        Energy    Accept   Improve     Elapsed   Remaining\n",
      "     2.50000        -21.11    45.80%    15.60%     0:00:02     0:00:00 Temperature        Energy    Accept   Improve     Elapsed   Remaining\n",
      "     2.50000         -1.00   100.00%     0.00%     0:00:00     0:00:00 Temperature        Energy    Accept   Improve     Elapsed   Remaining\n",
      "     2.50000        -31.80     9.60%     2.00%     0:00:02     0:00:00 Temperature        Energy    Accept   Improve     Elapsed   Remaining\n",
      "     2.50000         -2.00    87.60%    15.00%     0:00:01     0:00:00 Temperature        Energy    Accept   Improve     Elapsed   Remaining\n",
      "     2.50000         -4.00    98.00%     8.20%     0:00:01     0:00:00 Temperature        Energy    Accept   Improve     Elapsed   Remaining\n",
      "     2.50000        -26.85    65.80%    29.20%     0:00:04     0:00:00 Temperature        Energy    Accept   Improve     Elapsed   Remaining\n",
      "     2.50000        -64.28     8.40%     3.60%     0:00:05     0:00:00 Temperature        Energy    Accept   Improve     Elapsed   Remaining\n",
      "     2.50000        -58.84     2.40%     1.20%     0:00:05     0:00:00 Temperature        Energy    Accept   Improve     Elapsed   Remaining\n",
      "     2.50000        -31.80    54.40%    24.20%     0:00:04     0:00:00 Temperature        Energy    Accept   Improve     Elapsed   Remaining\n",
      "  2280.02710        -15.09   100.00%    39.20%     0:00:01     0:00:02"
     ]
    },
    {
     "name": "stdout",
     "output_type": "stream",
     "text": [
      "30\n"
     ]
    },
    {
     "name": "stderr",
     "output_type": "stream",
     "text": [
      "     2.50000        -15.72    42.40%    16.80%     0:00:02     0:00:00 Temperature        Energy    Accept   Improve     Elapsed   Remaining\n",
      "     2.50000        -15.00    63.60%    28.00%     0:00:03     0:00:00 Temperature        Energy    Accept   Improve     Elapsed   Remaining\n",
      "     2.50000        -20.72    47.40%    13.80%     0:00:03     0:00:00 Temperature        Energy    Accept   Improve     Elapsed   Remaining\n",
      "     2.50000        -12.37    81.40%    31.20%     0:00:02     0:00:00 Temperature        Energy    Accept   Improve     Elapsed   Remaining\n",
      "     2.50000        -73.33    34.20%    15.60%     0:00:09     0:00:00 Temperature        Energy    Accept   Improve     Elapsed   Remaining\n",
      "     2.50000         -1.00   100.00%     0.00%     0:00:00     0:00:00 Temperature        Energy    Accept   Improve     Elapsed   Remaining\n",
      "     2.50000        -27.82     5.60%     1.80%     0:00:02     0:00:00 Temperature        Energy    Accept   Improve     Elapsed   Remaining\n",
      "     2.50000         -7.09    27.00%    12.60%     0:00:01     0:00:00 Temperature        Energy    Accept   Improve     Elapsed   Remaining\n",
      "     2.50000        -27.87    32.60%    15.60%     0:00:03     0:00:00 Temperature        Energy    Accept   Improve     Elapsed   Remaining\n",
      "     2.50000        -54.52     3.80%     1.60%     0:00:05     0:00:00 Temperature        Energy    Accept   Improve     Elapsed   Remaining\n",
      "  5727.16913        -12.72   100.00%    44.20%     0:00:00     0:00:02"
     ]
    },
    {
     "name": "stdout",
     "output_type": "stream",
     "text": [
      "40\n"
     ]
    },
    {
     "name": "stderr",
     "output_type": "stream",
     "text": [
      "     2.50000        -17.39    39.80%    16.00%     0:00:02     0:00:00 Temperature        Energy    Accept   Improve     Elapsed   Remaining\n",
      "     2.50000        -70.89     1.60%     0.80%     0:00:05     0:00:00 Temperature        Energy    Accept   Improve     Elapsed   Remaining\n",
      "     2.50000        -21.87    69.20%    28.80%     0:00:02     0:00:00 Temperature        Energy    Accept   Improve     Elapsed   Remaining\n",
      "     2.50000        -44.52     8.00%     3.00%     0:00:03     0:00:00 Temperature        Energy    Accept   Improve     Elapsed   Remaining\n",
      "     2.50000        -28.93    26.20%    11.40%     0:00:03     0:00:00 Temperature        Energy    Accept   Improve     Elapsed   Remaining\n",
      "     2.50000        -30.15    42.20%    21.00%     0:00:04     0:00:00 Temperature        Energy    Accept   Improve     Elapsed   Remaining\n",
      "     2.50000        -20.09    61.20%    23.60%     0:00:03     0:00:00 Temperature        Energy    Accept   Improve     Elapsed   Remaining\n",
      "     2.50000        -31.72    59.40%    26.60%     0:00:04     0:00:00 Temperature        Energy    Accept   Improve     Elapsed   Remaining\n",
      "     2.50000       -242.59     0.00%     0.00%     0:00:10     0:00:00 Temperature        Energy    Accept   Improve     Elapsed   Remaining\n",
      "     2.50000       -222.92     0.00%     0.00%     0:00:10     0:00:00 Temperature        Energy    Accept   Improve     Elapsed   Remaining\n",
      "  1091.28958         -1.00   100.00%     0.00%     0:00:00     0:00:00"
     ]
    },
    {
     "name": "stdout",
     "output_type": "stream",
     "text": [
      "50\n"
     ]
    },
    {
     "name": "stderr",
     "output_type": "stream",
     "text": [
      "     2.50000         -1.00   100.00%     0.00%     0:00:01     0:00:00 Temperature        Energy    Accept   Improve     Elapsed   Remaining\n",
      "     2.50000         -6.00    83.20%    14.20%     0:00:01     0:00:00 Temperature        Energy    Accept   Improve     Elapsed   Remaining\n",
      "     2.50000         -5.72    84.80%    23.60%     0:00:01     0:00:00 Temperature        Energy    Accept   Improve     Elapsed   Remaining\n",
      "     2.50000        -25.80    10.80%     2.60%     0:00:01     0:00:00 Temperature        Energy    Accept   Improve     Elapsed   Remaining\n",
      "     2.50000         -7.00    97.20%     7.60%     0:00:01     0:00:00 Temperature        Energy    Accept   Improve     Elapsed   Remaining\n",
      "     2.50000         -1.00   100.00%     0.00%     0:00:00     0:00:00 Temperature        Energy    Accept   Improve     Elapsed   Remaining\n",
      "     2.50000         -8.00   100.00%     0.00%     0:00:01     0:00:00 Temperature        Energy    Accept   Improve     Elapsed   Remaining\n",
      "     2.50000         -7.00   100.00%     0.00%     0:00:01     0:00:00 Temperature        Energy    Accept   Improve     Elapsed   Remaining\n",
      "     2.50000         -7.00   100.00%     0.00%     0:00:01     0:00:00 Temperature        Energy    Accept   Improve     Elapsed   Remaining\n",
      "     2.50000         -7.00   100.00%     0.00%     0:00:01     0:00:00 Temperature        Energy    Accept   Improve     Elapsed   Remaining\n",
      "  3005.66109         -7.00   100.00%     0.00%     0:00:00     0:00:01"
     ]
    },
    {
     "name": "stdout",
     "output_type": "stream",
     "text": [
      "60\n"
     ]
    },
    {
     "name": "stderr",
     "output_type": "stream",
     "text": [
      "     2.50000         -7.00   100.00%     0.00%     0:00:01     0:00:00 Temperature        Energy    Accept   Improve     Elapsed   Remaining\n",
      "     2.50000         -7.00   100.00%     0.00%     0:00:01     0:00:00 Temperature        Energy    Accept   Improve     Elapsed   Remaining\n",
      "     2.50000         -7.00    89.00%     9.20%     0:00:01     0:00:00 Temperature        Energy    Accept   Improve     Elapsed   Remaining\n",
      "     2.50000         -7.00   100.00%     0.00%     0:00:01     0:00:00 Temperature        Energy    Accept   Improve     Elapsed   Remaining\n",
      "     2.50000         -7.00   100.00%     0.00%     0:00:01     0:00:00 Temperature        Energy    Accept   Improve     Elapsed   Remaining\n",
      "     2.50000         -7.00    90.80%     9.40%     0:00:02     0:00:00 Temperature        Energy    Accept   Improve     Elapsed   Remaining\n",
      "     2.50000         -1.00   100.00%     0.00%     0:00:00     0:00:00 Temperature        Energy    Accept   Improve     Elapsed   Remaining\n",
      "     2.50000         -7.00   100.00%     0.00%     0:00:01     0:00:00 Temperature        Energy    Accept   Improve     Elapsed   Remaining\n",
      "     2.50000         -7.00   100.00%     0.00%     0:00:01     0:00:00 Temperature        Energy    Accept   Improve     Elapsed   Remaining\n",
      "     2.50000         -7.00   100.00%     0.00%     0:00:01     0:00:00 Temperature        Energy    Accept   Improve     Elapsed   Remaining\n",
      "  2741.19549         -7.00   100.00%    11.60%     0:00:00     0:00:01"
     ]
    },
    {
     "name": "stdout",
     "output_type": "stream",
     "text": [
      "70\n"
     ]
    },
    {
     "name": "stderr",
     "output_type": "stream",
     "text": [
      "     2.50000         -7.00    97.80%    10.00%     0:00:01     0:00:00 Temperature        Energy    Accept   Improve     Elapsed   Remaining\n",
      "     2.50000         -7.00    91.00%    10.80%     0:00:01     0:00:00 Temperature        Energy    Accept   Improve     Elapsed   Remaining\n",
      "     2.50000         -7.00    90.40%    10.00%     0:00:01     0:00:00 Temperature        Energy    Accept   Improve     Elapsed   Remaining\n",
      "     2.50000         -7.00    93.60%     9.80%     0:00:01     0:00:00 Temperature        Energy    Accept   Improve     Elapsed   Remaining\n",
      "     2.50000         -7.00   100.00%     0.00%     0:00:01     0:00:00 Temperature        Energy    Accept   Improve     Elapsed   Remaining\n",
      "     2.50000         -7.00   100.00%     0.00%     0:00:01     0:00:00 Temperature        Energy    Accept   Improve     Elapsed   Remaining\n",
      "     2.50000         -7.00   100.00%     0.00%     0:00:01     0:00:00 Temperature        Energy    Accept   Improve     Elapsed   Remaining\n",
      "     2.50000         -1.00   100.00%     0.00%     0:00:00     0:00:00 Temperature        Energy    Accept   Improve     Elapsed   Remaining\n",
      "     2.50000        -27.09    12.40%     3.80%     0:00:01     0:00:00 Temperature        Energy    Accept   Improve     Elapsed   Remaining\n",
      "     2.50000        -12.39    11.40%     5.20%     0:00:01     0:00:00 Temperature        Energy    Accept   Improve     Elapsed   Remaining\n",
      "  6885.57176        -11.00   100.00%    34.60%     0:00:00     0:00:02"
     ]
    },
    {
     "name": "stdout",
     "output_type": "stream",
     "text": [
      "80\n"
     ]
    },
    {
     "name": "stderr",
     "output_type": "stream",
     "text": [
      "     2.50000        -31.80    12.60%     3.60%     0:00:02     0:00:00 Temperature        Energy    Accept   Improve     Elapsed   Remaining\n",
      "     2.50000         -8.00    86.40%    20.80%     0:00:01     0:00:00 Temperature        Energy    Accept   Improve     Elapsed   Remaining\n",
      "     2.50000         -2.00   100.00%     0.00%     0:00:01     0:00:00 Temperature        Energy    Accept   Improve     Elapsed   Remaining\n",
      "     2.50000        -32.80    10.00%     4.40%     0:00:02     0:00:00 Temperature        Energy    Accept   Improve     Elapsed   Remaining\n",
      "     2.50000        -25.80    11.60%     2.80%     0:00:01     0:00:00 Temperature        Energy    Accept   Improve     Elapsed   Remaining\n",
      "     2.50000         -4.00    83.80%    15.80%     0:00:01     0:00:00 Temperature        Energy    Accept   Improve     Elapsed   Remaining\n",
      "     2.50000         -8.00    96.00%    15.20%     0:00:01     0:00:00 Temperature        Energy    Accept   Improve     Elapsed   Remaining\n",
      "     2.50000         -9.00    84.80%    25.60%     0:00:02     0:00:00 Temperature        Energy    Accept   Improve     Elapsed   Remaining\n",
      "     2.50000         -3.00   100.00%     0.00%     0:00:01     0:00:00 Temperature        Energy    Accept   Improve     Elapsed   Remaining\n",
      "     2.50000        -14.72    68.40%    25.40%     0:00:02     0:00:00 Temperature        Energy    Accept   Improve     Elapsed   Remaining\n",
      "   754.98793         -9.72   100.00%    39.00%     0:00:01     0:00:01\r"
     ]
    },
    {
     "name": "stdout",
     "output_type": "stream",
     "text": [
      "90\n"
     ]
    },
    {
     "name": "stderr",
     "output_type": "stream",
     "text": [
      "     2.50000         -9.72    81.80%    29.80%     0:00:01     0:00:00 Temperature        Energy    Accept   Improve     Elapsed   Remaining\n",
      "     2.50000         -8.00    97.00%     8.60%     0:00:02     0:00:00 Temperature        Energy    Accept   Improve     Elapsed   Remaining\n",
      "     2.50000         -8.00    98.80%     9.40%     0:00:01     0:00:00 Temperature        Energy    Accept   Improve     Elapsed   Remaining\n",
      "     2.50000         -7.37    92.00%    16.60%     0:00:02     0:00:00 Temperature        Energy    Accept   Improve     Elapsed   Remaining\n",
      "     2.50000         -8.00    97.40%     8.60%     0:00:01     0:00:00 Temperature        Energy    Accept   Improve     Elapsed   Remaining\n",
      "     2.50000         -1.00   100.00%     0.00%     0:00:00     0:00:00 Temperature        Energy    Accept   Improve     Elapsed   Remaining\n",
      "     2.50000        -28.09     9.60%     2.20%     0:00:02     0:00:00 Temperature        Energy    Accept   Improve     Elapsed   Remaining\n",
      "     2.50000         -5.00   100.00%     0.00%     0:00:01     0:00:00 Temperature        Energy    Accept   Improve     Elapsed   Remaining\n",
      "     2.50000         -4.00    83.40%    23.80%     0:00:01     0:00:00 Temperature        Energy    Accept   Improve     Elapsed   Remaining\n",
      "     2.50000         -4.00    84.00%    24.40%     0:00:01     0:00:00 Temperature        Energy    Accept   Improve     Elapsed   Remaining\n",
      "   572.71691         -8.00   100.00%     7.80%     0:00:01     0:00:01"
     ]
    },
    {
     "name": "stdout",
     "output_type": "stream",
     "text": [
      "100\n"
     ]
    },
    {
     "name": "stderr",
     "output_type": "stream",
     "text": [
      "     2.50000        -14.39    42.20%     4.00%     0:00:01     0:00:00 Temperature        Energy    Accept   Improve     Elapsed   Remaining\n",
      "     2.50000         -3.00    97.40%     8.60%     0:00:01     0:00:00 Temperature        Energy    Accept   Improve     Elapsed   Remaining\n",
      "     2.50000         -1.00   100.00%     0.00%     0:00:00     0:00:00 Temperature        Energy    Accept   Improve     Elapsed   Remaining\n",
      "     2.50000        -10.00   100.00%     0.00%     0:00:02     0:00:00 Temperature        Energy    Accept   Improve     Elapsed   Remaining\n",
      "     2.50000        -10.00   100.00%     0.00%     0:00:02     0:00:00 Temperature        Energy    Accept   Improve     Elapsed   Remaining\n",
      "     2.50000         -8.72    92.00%    10.20%     0:00:01     0:00:00 Temperature        Energy    Accept   Improve     Elapsed   Remaining\n",
      "     2.50000         -7.00   100.00%     0.00%     0:00:01     0:00:00 Temperature        Energy    Accept   Improve     Elapsed   Remaining\n",
      "     2.50000         -5.00   100.00%     0.00%     0:00:01     0:00:00 Temperature        Energy    Accept   Improve     Elapsed   Remaining\n",
      "     2.50000         -5.00   100.00%     0.00%     0:00:01     0:00:00 Temperature        Energy    Accept   Improve     Elapsed   Remaining\n",
      "     2.50000         -7.00   100.00%     0.00%     0:00:01     0:00:00 Temperature        Energy    Accept   Improve     Elapsed   Remaining\n",
      "  4763.65179         -7.00   100.00%     0.00%     0:00:00     0:00:01"
     ]
    },
    {
     "name": "stdout",
     "output_type": "stream",
     "text": [
      "110\n"
     ]
    },
    {
     "name": "stderr",
     "output_type": "stream",
     "text": [
      "     2.50000         -7.00   100.00%     0.00%     0:00:01     0:00:00 Temperature        Energy    Accept   Improve     Elapsed   Remaining\n",
      "     2.50000         -5.00   100.00%     0.00%     0:00:01     0:00:00 Temperature        Energy    Accept   Improve     Elapsed   Remaining\n",
      "     2.50000         -5.00    86.60%    11.00%     0:00:01     0:00:00 Temperature        Energy    Accept   Improve     Elapsed   Remaining\n",
      "     2.50000         -5.00   100.00%     0.00%     0:00:01     0:00:00 Temperature        Energy    Accept   Improve     Elapsed   Remaining\n",
      "     2.50000         -7.00   100.00%     0.00%     0:00:01     0:00:00 Temperature        Energy    Accept   Improve     Elapsed   Remaining\n",
      "     2.50000        -10.00    97.80%    10.80%     0:00:02     0:00:00 Temperature        Energy    Accept   Improve     Elapsed   Remaining\n",
      "     2.50000        -37.09    17.80%     0.00%     0:00:03     0:00:00 Temperature        Energy    Accept   Improve     Elapsed   Remaining\n",
      "     2.50000        -15.00    78.00%    23.20%     0:00:02     0:00:00 Temperature        Energy    Accept   Improve     Elapsed   Remaining\n",
      "     2.50000        -16.72    72.20%    25.00%     0:00:02     0:00:00 Temperature        Energy    Accept   Improve     Elapsed   Remaining\n",
      "     2.50000         -6.00   100.00%     0.00%     0:00:01     0:00:00 Temperature        Energy    Accept   Improve     Elapsed   Remaining\n",
      "   907.69514         -3.00   100.00%     0.00%     0:00:00     0:00:01"
     ]
    },
    {
     "name": "stdout",
     "output_type": "stream",
     "text": [
      "120\n"
     ]
    },
    {
     "name": "stderr",
     "output_type": "stream",
     "text": [
      "     2.50000         -3.00   100.00%     0.00%     0:00:01     0:00:00 Temperature        Energy    Accept   Improve     Elapsed   Remaining\n",
      "     2.50000         -8.00   100.00%     0.00%     0:00:01     0:00:00 Temperature        Energy    Accept   Improve     Elapsed   Remaining\n",
      "     2.50000         -8.00   100.00%     0.00%     0:00:01     0:00:00 Temperature        Energy    Accept   Improve     Elapsed   Remaining\n",
      "     2.50000         -8.00    91.60%     9.20%     0:00:01     0:00:00 Temperature        Energy    Accept   Improve     Elapsed   Remaining\n",
      "     2.50000        -13.39    57.60%     5.00%     0:00:01     0:00:00 Temperature        Energy    Accept   Improve     Elapsed   Remaining\n",
      "     2.50000         -5.00   100.00%     0.00%     0:00:01     0:00:00 Temperature        Energy    Accept   Improve     Elapsed   Remaining\n",
      "     2.50000         -9.00    89.60%    10.80%     0:00:02     0:00:00 Temperature        Energy    Accept   Improve     Elapsed   Remaining\n",
      "     2.50000         -6.00   100.00%     0.00%     0:00:01     0:00:00 Temperature        Energy    Accept   Improve     Elapsed   Remaining\n",
      "     2.50000         -6.00   100.00%     0.00%     0:00:01     0:00:00 Temperature        Energy    Accept   Improve     Elapsed   Remaining\n",
      "     2.50000         -8.00   100.00%     0.00%     0:00:01     0:00:00 Temperature        Energy    Accept   Improve     Elapsed   Remaining\n",
      "  9952.67926        -11.00   100.00%     0.00%     0:00:00     0:00:02"
     ]
    },
    {
     "name": "stdout",
     "output_type": "stream",
     "text": [
      "130\n"
     ]
    },
    {
     "name": "stderr",
     "output_type": "stream",
     "text": [
      "     2.50000        -11.00   100.00%     0.00%     0:00:02     0:00:00 Temperature        Energy    Accept   Improve     Elapsed   Remaining\n",
      "     2.50000         -5.00   100.00%     0.00%     0:00:01     0:00:00 Temperature        Energy    Accept   Improve     Elapsed   Remaining\n",
      "     2.50000         -8.00   100.00%     0.00%     0:00:01     0:00:00 Temperature        Energy    Accept   Improve     Elapsed   Remaining\n",
      "     2.50000         -9.00    98.80%     8.80%     0:00:02     0:00:00 Temperature        Energy    Accept   Improve     Elapsed   Remaining\n",
      "     2.50000        -30.09    13.20%     0.00%     0:00:02     0:00:00 Temperature        Energy    Accept   Improve     Elapsed   Remaining\n",
      "     2.50000         -3.00    89.80%    16.60%     0:00:01     0:00:00 Temperature        Energy    Accept   Improve     Elapsed   Remaining\n",
      "     2.50000        -14.72    78.00%    24.20%     0:00:02     0:00:00 Temperature        Energy    Accept   Improve     Elapsed   Remaining\n",
      "     2.50000        -14.72    70.60%    25.40%     0:00:02     0:00:00 Temperature        Energy    Accept   Improve     Elapsed   Remaining\n",
      "     2.50000        -12.37    78.40%    26.00%     0:00:02     0:00:00 Temperature        Energy    Accept   Improve     Elapsed   Remaining\n",
      "     2.50000         -5.09    79.00%    19.80%     0:00:01     0:00:00 Temperature        Energy    Accept   Improve     Elapsed   Remaining\n",
      "   274.11955         -7.37    99.80%    19.00%     0:00:01     0:00:01"
     ]
    },
    {
     "name": "stdout",
     "output_type": "stream",
     "text": [
      "140\n"
     ]
    },
    {
     "name": "stderr",
     "output_type": "stream",
     "text": [
      "     2.50000         -8.00    91.20%    17.80%     0:00:01     0:00:00 Temperature        Energy    Accept   Improve     Elapsed   Remaining\n",
      "     2.50000        -11.72    80.40%    23.80%     0:00:02     0:00:00 Temperature        Energy    Accept   Improve     Elapsed   Remaining\n",
      "     2.50000         -1.00   100.00%     0.00%     0:00:00     0:00:00 Temperature        Energy    Accept   Improve     Elapsed   Remaining\n",
      "     2.50000        -28.09    12.00%     3.00%     0:00:02     0:00:00 Temperature        Energy    Accept   Improve     Elapsed   Remaining\n",
      "     2.50000         -3.72    88.40%    13.80%     0:00:01     0:00:00 Temperature        Energy    Accept   Improve     Elapsed   Remaining\n",
      "     2.50000        -25.09    12.00%     0.00%     0:00:01     0:00:00 Temperature        Energy    Accept   Improve     Elapsed   Remaining\n",
      "     2.50000         -7.00    91.00%    22.40%     0:00:01     0:00:00 Temperature        Energy    Accept   Improve     Elapsed   Remaining\n",
      "     2.50000         -4.00   100.00%     0.00%     0:00:01     0:00:00 Temperature        Energy    Accept   Improve     Elapsed   Remaining\n",
      "     2.50000         -1.00   100.00%     0.00%     0:00:00     0:00:00 Temperature        Energy    Accept   Improve     Elapsed   Remaining\n",
      "     2.50000        -25.09    10.40%     2.40%     0:00:01     0:00:00 Temperature        Energy    Accept   Improve     Elapsed   Remaining\n",
      "  1091.28958         -2.00   100.00%    21.40%     0:00:00     0:00:00"
     ]
    },
    {
     "name": "stdout",
     "output_type": "stream",
     "text": [
      "150\n"
     ]
    },
    {
     "name": "stderr",
     "output_type": "stream",
     "text": [
      "     2.50000         -2.00    91.20%    17.00%     0:00:01     0:00:00 Temperature        Energy    Accept   Improve     Elapsed   Remaining\n",
      "     2.50000        -34.48    35.60%    14.80%     0:00:05     0:00:00 Temperature        Energy    Accept   Improve     Elapsed   Remaining\n",
      "     2.50000        -45.78    16.40%     8.80%     0:00:05     0:00:00 Temperature        Energy    Accept   Improve     Elapsed   Remaining\n",
      "     2.50000        -30.80    69.60%    27.60%     0:00:04     0:00:00 Temperature        Energy    Accept   Improve     Elapsed   Remaining\n",
      "     2.50000        -24.09    69.20%    25.60%     0:00:04     0:00:00 Temperature        Energy    Accept   Improve     Elapsed   Remaining\n",
      "     2.50000        -44.80    12.40%     4.00%     0:00:04     0:00:00 Temperature        Energy    Accept   Improve     Elapsed   Remaining\n",
      "     2.50000         -1.00   100.00%     0.00%     0:00:00     0:00:00 Temperature        Energy    Accept   Improve     Elapsed   Remaining\n",
      "     2.50000        -34.52     9.00%     3.00%     0:00:02     0:00:00 Temperature        Energy    Accept   Improve     Elapsed   Remaining\n",
      "     2.50000         -2.00    88.00%    15.20%     0:00:01     0:00:00 Temperature        Energy    Accept   Improve     Elapsed   Remaining\n",
      "     2.50000        -34.72    67.60%    28.00%     0:00:05     0:00:00 Temperature        Energy    Accept   Improve     Elapsed   Remaining\n",
      "  6885.57176        -29.80   100.00%    44.20%     0:00:01     0:00:04"
     ]
    },
    {
     "name": "stdout",
     "output_type": "stream",
     "text": [
      "160\n"
     ]
    },
    {
     "name": "stderr",
     "output_type": "stream",
     "text": [
      "     2.50000        -47.17     9.80%     5.00%     0:00:04     0:00:00 Temperature        Energy    Accept   Improve     Elapsed   Remaining\n",
      "     2.50000        -83.39     0.20%     0.20%     0:00:04     0:00:00 Temperature        Energy    Accept   Improve     Elapsed   Remaining\n",
      "     2.50000        -49.80     7.20%     3.40%     0:00:04     0:00:00 Temperature        Energy    Accept   Improve     Elapsed   Remaining\n",
      "     2.50000        -32.44    71.20%    29.60%     0:00:04     0:00:00 Temperature        Energy    Accept   Improve     Elapsed   Remaining\n",
      "     2.50000         -1.00   100.00%     0.00%     0:00:00     0:00:00 Temperature        Energy    Accept   Improve     Elapsed   Remaining\n",
      "     2.50000        -25.80    10.60%     3.20%     0:00:01     0:00:00 Temperature        Energy    Accept   Improve     Elapsed   Remaining\n",
      "     2.50000         -2.00    88.00%    17.60%     0:00:01     0:00:00 Temperature        Energy    Accept   Improve     Elapsed   Remaining\n",
      "     2.50000         -5.37    85.00%    20.40%     0:00:01     0:00:00 Temperature        Energy    Accept   Improve     Elapsed   Remaining\n",
      "     2.50000         -9.00    91.60%    17.60%     0:00:02     0:00:00 Temperature        Energy    Accept   Improve     Elapsed   Remaining\n",
      "     2.50000        -10.72    83.80%    28.80%     0:00:02     0:00:00 Temperature        Energy    Accept   Improve     Elapsed   Remaining\n",
      "   688.55718         -2.00   100.00%    12.20%     0:00:00     0:00:00"
     ]
    },
    {
     "name": "stdout",
     "output_type": "stream",
     "text": [
      "170\n"
     ]
    },
    {
     "name": "stderr",
     "output_type": "stream",
     "text": [
      "     2.50000         -2.00    93.20%     8.80%     0:00:01     0:00:00 Temperature        Energy    Accept   Improve     Elapsed   Remaining\n",
      "     2.50000         -8.00   100.00%     0.00%     0:00:01     0:00:00 Temperature        Energy    Accept   Improve     Elapsed   Remaining\n",
      "     2.50000         -9.00    97.80%     7.00%     0:00:02     0:00:00 Temperature        Energy    Accept   Improve     Elapsed   Remaining\n",
      "     2.50000        -10.00   100.00%     0.00%     0:00:02     0:00:00 Temperature        Energy    Accept   Improve     Elapsed   Remaining\n",
      "     2.50000         -9.00   100.00%     0.00%     0:00:02     0:00:00 Temperature        Energy    Accept   Improve     Elapsed   Remaining\n",
      "     2.50000         -8.00   100.00%     0.00%     0:00:01     0:00:00 Temperature        Energy    Accept   Improve     Elapsed   Remaining\n",
      "     2.50000         -8.00   100.00%     0.00%     0:00:01     0:00:00 Temperature        Energy    Accept   Improve     Elapsed   Remaining\n",
      "     2.50000         -2.00   100.00%     0.00%     0:00:01     0:00:00 Temperature        Energy    Accept   Improve     Elapsed   Remaining\n",
      "     2.50000         -9.00    97.40%     9.40%     0:00:02     0:00:00 Temperature        Energy    Accept   Improve     Elapsed   Remaining\n",
      "     2.50000         -8.00   100.00%     0.00%     0:00:01     0:00:00 Temperature        Energy    Accept   Improve     Elapsed   Remaining\n",
      "  3295.64185         -9.00   100.00%     0.00%     0:00:00     0:00:01"
     ]
    },
    {
     "name": "stdout",
     "output_type": "stream",
     "text": [
      "180\n"
     ]
    },
    {
     "name": "stderr",
     "output_type": "stream",
     "text": [
      "     2.50000         -9.00   100.00%     0.00%     0:00:02     0:00:00 Temperature        Energy    Accept   Improve     Elapsed   Remaining\n",
      "     2.50000         -9.00   100.00%     0.00%     0:00:02     0:00:00 Temperature        Energy    Accept   Improve     Elapsed   Remaining\n",
      "     2.50000         -9.00   100.00%     0.00%     0:00:02     0:00:00 Temperature        Energy    Accept   Improve     Elapsed   Remaining\n",
      "     2.50000         -8.00   100.00%     0.00%     0:00:01     0:00:00 Temperature        Energy    Accept   Improve     Elapsed   Remaining\n",
      "     2.50000         -1.37    98.00%    10.20%     0:00:01     0:00:00 Temperature        Energy    Accept   Improve     Elapsed   Remaining\n",
      "     2.50000         -8.00   100.00%     0.00%     0:00:01     0:00:00 Temperature        Energy    Accept   Improve     Elapsed   Remaining\n",
      "     2.50000         -8.00   100.00%     0.00%     0:00:01     0:00:00 Temperature        Energy    Accept   Improve     Elapsed   Remaining\n",
      "     2.50000         -8.00   100.00%     0.00%     0:00:01     0:00:00 Temperature        Energy    Accept   Improve     Elapsed   Remaining\n",
      "     2.50000         -8.00   100.00%     0.00%     0:00:01     0:00:00 Temperature        Energy    Accept   Improve     Elapsed   Remaining\n",
      "     2.50000         -8.00   100.00%     0.00%     0:00:01     0:00:00 Temperature        Energy    Accept   Improve     Elapsed   Remaining\n",
      "   995.26793         -9.00   100.00%     0.00%     0:00:01     0:00:01"
     ]
    },
    {
     "name": "stdout",
     "output_type": "stream",
     "text": [
      "190\n"
     ]
    },
    {
     "name": "stderr",
     "output_type": "stream",
     "text": [
      "     2.50000         -9.00   100.00%     0.00%     0:00:02     0:00:00 Temperature        Energy    Accept   Improve     Elapsed   Remaining\n",
      "     2.50000         -2.00   100.00%     0.00%     0:00:01     0:00:00 Temperature        Energy    Accept   Improve     Elapsed   Remaining\n",
      "     2.50000         -9.00   100.00%     0.00%     0:00:02     0:00:00 Temperature        Energy    Accept   Improve     Elapsed   Remaining\n",
      "     2.50000         -8.00   100.00%     0.00%     0:00:02     0:00:00 Temperature        Energy    Accept   Improve     Elapsed   Remaining\n",
      "     2.50000         -9.00   100.00%     0.00%     0:00:02     0:00:00 Temperature        Energy    Accept   Improve     Elapsed   Remaining\n",
      "     2.50000         -9.00    98.80%     9.00%     0:00:02     0:00:00 Temperature        Energy    Accept   Improve     Elapsed   Remaining\n",
      "     2.50000         -8.00   100.00%     0.00%     0:00:02     0:00:00 Temperature        Energy    Accept   Improve     Elapsed   Remaining\n",
      "     2.50000         -9.00   100.00%     0.00%     0:00:02     0:00:00 Temperature        Energy    Accept   Improve     Elapsed   Remaining\n",
      "     2.50000         -1.00   100.00%     0.00%     0:00:01     0:00:00 Temperature        Energy    Accept   Improve     Elapsed   Remaining\n",
      "     2.50000        -34.47     6.80%     1.20%     0:00:02     0:00:00"
     ]
    }
   ],
   "source": [
    "from math import exp\n",
    "\n",
    "predictions = []\n",
    "\n",
    "for i,sentence in enumerate(sentences[:200]):\n",
    "    if i%10==0:\n",
    "        print(i)\n",
    "    state, _ = get_prediction(weights, sentence)\n",
    "    predictions.append(state)"
   ]
  },
  {
   "cell_type": "code",
   "execution_count": 5,
   "metadata": {},
   "outputs": [],
   "source": [
    "import pickle \n",
    "predictions= pickle.load(open('opti_prediction', 'rb'))"
   ]
  },
  {
   "cell_type": "code",
   "execution_count": 6,
   "metadata": {},
   "outputs": [],
   "source": [
    "label_dict = {'': 8,\n",
    " 'B-LOC': 5,\n",
    " 'B-MISC': 6,\n",
    " 'B-ORG': 7,\n",
    " 'I-LOC': 4,\n",
    " 'I-MISC': 2,\n",
    " 'I-ORG': 0,\n",
    " 'I-PER': 3,\n",
    " 'O': 1}"
   ]
  },
  {
   "cell_type": "code",
   "execution_count": 7,
   "metadata": {},
   "outputs": [
    {
     "name": "stderr",
     "output_type": "stream",
     "text": [
      "/home/gagan/anaconda2/envs/python3/lib/python3.6/site-packages/sklearn/metrics/classification.py:1135: UndefinedMetricWarning: F-score is ill-defined and being set to 0.0 in labels with no predicted samples.\n",
      "  'precision', 'predicted', average, warn_for)\n",
      "/home/gagan/anaconda2/envs/python3/lib/python3.6/site-packages/sklearn/metrics/classification.py:1137: UndefinedMetricWarning: F-score is ill-defined and being set to 0.0 in labels with no true samples.\n",
      "  'recall', 'true', average, warn_for)\n"
     ]
    }
   ],
   "source": [
    "from sklearn.metrics import accuracy_score, f1_score \n",
    "import numpy as np\n",
    "\n",
    "f1 = {}\n",
    "for i, (pred, true) in enumerate(zip(predictions, labels)):\n",
    "    f= f1_score(true, [label_dict[x] for x in pred], average=\"weighted\")\n",
    "    f1[len(pred)]= f1.get(len(pred), []) +[f]\n",
    "\n"
   ]
  },
  {
   "cell_type": "code",
   "execution_count": 9,
   "metadata": {},
   "outputs": [
    {
     "name": "stdout",
     "output_type": "stream",
     "text": [
      "dict_keys([12, 2, 6, 25, 42, 23, 17, 18, 28, 38, 31, 16, 21, 9, 20, 1, 26, 13, 11, 4, 36, 34, 29, 14, 15, 19, 66, 10, 32, 22, 30, 71, 72, 5, 7, 8, 3, 27, 33, 24, 45, 37, 39, 35, 124, 80, 56, 43, 44, 59, 40, 41, 48, 50, 55, 53, 49, 47, 60, 54, 69, 46, 64, 77]) 64\n",
      "[0.0930028745504936, 0.20023980815347722, 0.03773652587211909, 0.1341172947567847, 0.0636055678586379, 0.14504434785660153, 0.14567155777204038, 0.17205081208299455, 0.15192381747024453, 0.07783523985939053, 0.12421568916987756, 0.14853582670851026, 0.14354224930953022, 0.07412379183679632, 0.14117049687156888, 0.0076045627376425855, 0.15029138029825284, 0.12128118004186382, 0.11255801017164653, 0.10532345013477089, 0.08903565160660104, 0.1324820500592236, 0.1260403694672828, 0.12540419273853798, 0.14617454749087072, 0.15415785970776724, 0.0, 0.08637055857528299, 0.10940595036796133, 0.1438442237578581, 0.11423018374636766, 0.1723943661971831, 0.11603252412075943, 0.07100810536980749, 0.056266871828096324, 0.04854122262379143, 0.16382113821138208, 0.15673143668448053, 0.08172368333071371, 0.1220829248811074, 0.07758920074114485, 0.05074923173545051, 0.1238973633788554, 0.06557207128635699, 0.140101201771031, 0.18034417156693183, 0.11960132890365448, 0.004259552586446221, 0.07787519207142711, 0.15032284100080712, 0.09021464609879243, 0.06793137725621333, 0.06338690476190477, 0.03189419163891972, 0.04703174331933731, 0.0013722126929674098, 0.00027210884353741496, 0.04167100882906354, 0.002150537634408602, 0.0, 0.013913043478260868, 0.0, 0.1642156862745098, 0.13833136560409287] 64\n"
     ]
    },
    {
     "data": {
      "image/png": "[encoded data removed]",
      "text/plain": [
       "<Figure size 432x288 with 1 Axes>"
      ]
     },
     "metadata": {
      "needs_background": "light"
     },
     "output_type": "display_data"
    },
    {
     "data": {
      "image/png": "[encoded data removed]",
      "text/plain": [
       "<Figure size 432x288 with 1 Axes>"
      ]
     },
     "metadata": {
      "needs_background": "light"
     },
     "output_type": "display_data"
    }
   ],
   "source": [
    "from matplotlib import pyplot as plt\n",
    "print(f1.keys(), len(f1.keys()))\n",
    "print ([np.mean(f1[x]) for x in f1.keys()], len([np.mean(f1[x]) for x in f1.keys()]))\n",
    "keys=sorted(f1.keys())\n",
    "# for i,k in enumerate(keys):\n",
    "#     print(i,k)\n",
    "plt.plot(keys, [np.mean(f1[x]) for x in keys])\n",
    "plt.show()\n",
    "plt.plot(keys[5:40], [np.mean(f1[x]) for x in keys[5:40]])\n",
    "plt.show()"
   ]
  },
  {
   "cell_type": "code",
   "execution_count": 42,
   "metadata": {},
   "outputs": [
    {
     "name": "stdout",
     "output_type": "stream",
     "text": [
      "2317 2317\n",
      "0.1452906830596916\n",
      "0.10142425550280536\n"
     ]
    },
    {
     "name": "stderr",
     "output_type": "stream",
     "text": [
      "/home/gagan/anaconda2/envs/python3/lib/python3.6/site-packages/sklearn/metrics/classification.py:1137: UndefinedMetricWarning: F-score is ill-defined and being set to 0.0 in labels with no true samples.\n",
      "  'recall', 'true', average, warn_for)\n"
     ]
    }
   ],
   "source": [
    "from functools import reduce\n",
    "pred1= reduce(lambda x,y :x+y ,predictions)\n",
    "labels1= reduce(lambda x,y :x+y ,labels[:200])\n",
    "print (len(pred1),len(labels1))\n",
    "print(f1_score(labels1, [label_dict[x] for x in pred1], average=\"weighted\"))\n",
    "print(accuracy_score(labels1, [label_dict[x] for x in pred1]))"
   ]
  },
  {
   "cell_type": "code",
   "execution_count": null,
   "metadata": {},
   "outputs": [],
   "source": [
    "from sklearn.metrics import accuracy_score \n",
    "import numpy as np\n",
    "accs = []\n",
    "for i, (pred, true) in enumerate(zip(predictions, labels)):\n",
    "    print(pred)\n",
    "    print([label_dict[x] for x in pred])\n",
    "    break\n",
    "    acc = accuracy_score(true, [label_dict[x] for x in pred])\n",
    "    accs.append((len(pred), acc))\n",
    "#     print(i, acc)\n",
    "#     print(\"predi:\", pred)\n",
    "#     print(\"truth:\", np.array(true))"
   ]
  },
  {
   "cell_type": "code",
   "execution_count": 16,
   "metadata": {},
   "outputs": [
    {
     "name": "stdout",
     "output_type": "stream",
     "text": [
      "100\n"
     ]
    }
   ],
   "source": [
    "print(len(accs))"
   ]
  },
  {
   "cell_type": "code",
   "execution_count": 7,
   "metadata": {},
   "outputs": [
    {
     "name": "stdout",
     "output_type": "stream",
     "text": [
      "1\t0.0\n",
      "1\t0.0\n",
      "1\t0.0\n",
      "1\t0.0\n",
      "1\t0.0\n",
      "1\t0.0\n",
      "1\t0.0\n",
      "1\t0.0\n",
      "2\t0.0\n",
      "2\t50.0\n",
      "2\t0.0\n",
      "3\t0.0\n",
      "4\t0.0\n",
      "4\t50.0\n",
      "4\t25.0\n",
      "4\t50.0\n",
      "4\t0.0\n",
      "5\t0.0\n",
      "5\t40.0\n",
      "5\t0.0\n",
      "6\t33.33333333333333\n",
      "6\t50.0\n",
      "6\t16.666666666666664\n",
      "6\t50.0\n",
      "7\t14.285714285714285\n",
      "7\t14.285714285714285\n",
      "7\t14.285714285714285\n",
      "7\t14.285714285714285\n",
      "7\t14.285714285714285\n",
      "7\t14.285714285714285\n",
      "7\t14.285714285714285\n",
      "7\t14.285714285714285\n",
      "7\t14.285714285714285\n",
      "7\t14.285714285714285\n",
      "7\t14.285714285714285\n",
      "7\t14.285714285714285\n",
      "7\t14.285714285714285\n",
      "7\t0.0\n",
      "7\t14.285714285714285\n",
      "7\t14.285714285714285\n",
      "7\t14.285714285714285\n",
      "7\t14.285714285714285\n",
      "7\t14.285714285714285\n",
      "7\t14.285714285714285\n",
      "8\t12.5\n",
      "8\t0.0\n",
      "8\t25.0\n",
      "8\t12.5\n",
      "8\t0.0\n",
      "8\t12.5\n",
      "8\t12.5\n",
      "8\t12.5\n",
      "8\t12.5\n",
      "9\t11.11111111111111\n",
      "9\t0.0\n",
      "9\t0.0\n",
      "10\t0.0\n",
      "11\t9.090909090909092\n",
      "11\t0.0\n",
      "11\t18.181818181818183\n",
      "12\t25.0\n",
      "12\t8.333333333333332\n",
      "12\t8.333333333333332\n",
      "13\t0.0\n",
      "13\t15.384615384615385\n",
      "13\t0.0\n",
      "14\t14.285714285714285\n",
      "15\t13.333333333333334\n",
      "15\t20.0\n",
      "16\t18.75\n",
      "17\t11.76470588235294\n",
      "17\t11.76470588235294\n",
      "17\t11.76470588235294\n",
      "18\t0.0\n",
      "19\t15.789473684210526\n",
      "19\t10.526315789473683\n",
      "20\t5.0\n",
      "21\t4.761904761904762\n",
      "21\t9.523809523809524\n",
      "21\t4.761904761904762\n",
      "22\t9.090909090909092\n",
      "23\t13.043478260869565\n",
      "25\t8.0\n",
      "25\t16.0\n",
      "25\t8.0\n",
      "26\t3.8461538461538463\n",
      "26\t3.8461538461538463\n",
      "28\t14.285714285714285\n",
      "29\t13.793103448275861\n",
      "30\t13.333333333333334\n",
      "31\t0.0\n",
      "31\t0.0\n",
      "32\t15.625\n",
      "34\t2.941176470588235\n",
      "36\t8.333333333333332\n",
      "38\t15.789473684210526\n",
      "42\t2.380952380952381\n",
      "66\t0.0\n",
      "71\t5.633802816901409\n",
      "72\t11.11111111111111\n"
     ]
    }
   ],
   "source": [
    "# import pandas as pd\n",
    "\n",
    "# df = pd.read_dict\n",
    "accs.sort(key = lambda x: x[0])\n",
    "\n",
    "for item in accs:\n",
    "    print(str(item[0])+'\\t'+str(item[1]*100))"
   ]
  },
  {
   "cell_type": "code",
   "execution_count": null,
   "metadata": {},
   "outputs": [],
   "source": [
    "hist = {}\n",
    "\n",
    "for l, a in accs:\n",
    "    temp = hist.get(l, [])\n",
    "    temp.append(a)\n",
    "    hist[l] = temp"
   ]
  },
  {
   "cell_type": "code",
   "execution_count": null,
   "metadata": {},
   "outputs": [],
   "source": [
    "predictions = create_objective_fn(final_params, inference_mode=True)\n",
    "\n",
    "accs = []\n",
    "for i, (pred, true) in enumerate(zip(predictions, labels)):\n",
    "    acc = accuracy_score(true, pred)\n",
    "    accs.append((len(pred), acc))\n",
    "    print(i, acc)\n",
    "    print(\"predi:\", pred)\n",
    "    print(\"truth:\", np.array(true))\n",
    "\n",
    "\n",
    "#Stochastic or Batch gradient descent?\n",
    "#what about constraints\n",
    "# is this even relevant to opti?\n",
    "# why can't we use likelihood as obj function?\n",
    "# no. of hidden states == label_count?"
   ]
  },
  {
   "cell_type": "code",
   "execution_count": null,
   "metadata": {},
   "outputs": [],
   "source": [
    "global sentences, labels\n",
    "sentences,labels, vocab, label_vocab = create_vocabulary(\"./data/files/train\")\n",
    "sentences = np.array(sentences)\n",
    "labels = np.array(labels)\n",
    "global label_count\n",
    "label_count = len(label_vocab)\n",
    "global vocab_size\n",
    "vocab_size = len(vocab)\n",
    "init_pi = [1/label_count]*label_count\n",
    "init_pi = np.array(init_pi).reshape(label_count)\n",
    "\n",
    "init_trans = [[1/label_count]*label_count for i in range(label_count)]\n",
    "init_trans = np.array(init_trans).reshape(label_count*label_count)\n",
    "\n",
    "init_em = [[1/vocab_size]*label_count for i in range(vocab_size)]\n",
    "init_em = np.array(init_em).reshape(vocab_size*label_count)\n",
    "\n",
    "init_params = np.concatenate((init_pi, init_trans, init_em))\n",
    "\n",
    "# random initialization\n",
    "#    init_params = np.random.uniform(0,1,(1 + len(vocab) + label_count)*label_count)\n",
    "\n",
    "lagrangian_params = np.random.uniform(0,1,(2 + len(vocab) + label_count)*label_count)\n",
    "init_full_params = np.concatenate((init_params, lagrangian_params))\n",
    "\n",
    "objective_grad = grad(create_objective_fn)\n",
    "\n",
    "final_params = init_full_params\n",
    "final_params = pickle.load(open('results/final_params_100_100iters.pkl', 'rb'))\n",
    "\n",
    "#    final_params = adam(objective_grad, final_params, step_size=0.01, callback=callback,\n",
    "#                    num_iters=100)\n",
    "pkl_name = 'results/final_params_' + ''.join(random.choice(string.ascii_letters) for _ in range(6)) + '.pkl'\n",
    "pickle.dump(final_params, open(pkl_name, 'wb'))\n",
    "\n",
    "print(\"********End of training *******\")\n",
    "#    print(\"optimal params\")\n",
    "#    print_params(final_params, label_count, vocab_size)\n",
    "#    print(\"---------------------\")\n",
    "print(\"Total "
   ]
  }
 ],
 "metadata": {
  "kernelspec": {
   "display_name": "Python 2",
   "language": "python",
   "name": "python2"
  },
  "language_info": {
   "codemirror_mode": {
    "name": "ipython",
    "version": 3
   },
   "file_extension": ".py",
   "mimetype": "text/x-python",
   "name": "python",
   "nbconvert_exporter": "python",
   "pygments_lexer": "ipython3",
   "version": "3.6.6"
  }
 },
 "nbformat": 4,
 "nbformat_minor": 2
}
